{
 "cells": [
  {
   "cell_type": "markdown",
   "metadata": {},
   "source": [
    "# ML Pipeline Preparation\n",
    "Follow the instructions below to help you create your ML pipeline.\n",
    "### 1. Import libraries and load data from database.\n",
    "- Import Python libraries\n",
    "- Load dataset from database with [`read_sql_table`](https://pandas.pydata.org/pandas-docs/stable/generated/pandas.read_sql_table.html)\n",
    "- Define feature and target variables X and Y"
   ]
  },
  {
   "cell_type": "code",
   "execution_count": 1,
   "metadata": {},
   "outputs": [
    {
     "name": "stderr",
     "output_type": "stream",
     "text": [
      "[nltk_data] Downloading package punkt to\n",
      "[nltk_data]     /Users/natnareephoungsombat/nltk_data...\n",
      "[nltk_data]   Package punkt is already up-to-date!\n",
      "[nltk_data] Downloading package wordnet to\n",
      "[nltk_data]     /Users/natnareephoungsombat/nltk_data...\n",
      "[nltk_data]   Package wordnet is already up-to-date!\n"
     ]
    },
    {
     "data": {
      "text/plain": [
       "True"
      ]
     },
     "execution_count": 1,
     "metadata": {},
     "output_type": "execute_result"
    }
   ],
   "source": [
    "# import libraries\n",
    "import nltk\n",
    "import re\n",
    "import sqlite3\n",
    "import pandas as pd\n",
    "import numpy as np\n",
    "import pickle\n",
    "from sqlalchemy import create_engine\n",
    "from nltk.tokenize import word_tokenize\n",
    "from nltk.stem import WordNetLemmatizer\n",
    "from sklearn.model_selection import train_test_split\n",
    "from sklearn.ensemble import RandomForestClassifier\n",
    "from sklearn.feature_extraction.text import CountVectorizer, TfidfTransformer\n",
    "from sklearn.pipeline import Pipeline\n",
    "from sklearn.metrics import accuracy_score\n",
    "from sklearn.metrics import precision_score\n",
    "from sklearn.metrics import recall_score\n",
    "from sklearn.metrics import f1_score\n",
    "from sklearn.metrics import classification_report\n",
    "from sklearn.model_selection import GridSearchCV\n",
    "\n",
    "nltk.download(['punkt', 'wordnet'])"
   ]
  },
  {
   "cell_type": "code",
   "execution_count": 2,
   "metadata": {},
   "outputs": [],
   "source": [
    "#load data\n",
    "engine = create_engine('sqlite:///InsertDatabaseName.db')\n",
    "df = pd.read_sql('SELECT * FROM InsertDatabaseName', engine)"
   ]
  },
  {
   "cell_type": "code",
   "execution_count": 3,
   "metadata": {},
   "outputs": [
    {
     "data": {
      "text/plain": [
       "news      12978\n",
       "direct    10825\n",
       "social     2404\n",
       "Name: genre, dtype: int64"
      ]
     },
     "execution_count": 3,
     "metadata": {},
     "output_type": "execute_result"
    }
   ],
   "source": [
    "#check count of values in genre colum.  \n",
    "df['genre'].value_counts()"
   ]
  },
  {
   "cell_type": "code",
   "execution_count": 4,
   "metadata": {},
   "outputs": [
    {
     "data": {
      "text/plain": [
       "1    19914\n",
       "0     6101\n",
       "2      192\n",
       "Name: related, dtype: int64"
      ]
     },
     "execution_count": 4,
     "metadata": {},
     "output_type": "execute_result"
    }
   ],
   "source": [
    "#check count of values in related colum. \n",
    "df['related'].value_counts()"
   ]
  },
  {
   "cell_type": "code",
   "execution_count": 5,
   "metadata": {},
   "outputs": [
    {
     "data": {
      "text/html": [
       "<div>\n",
       "<style scoped>\n",
       "    .dataframe tbody tr th:only-of-type {\n",
       "        vertical-align: middle;\n",
       "    }\n",
       "\n",
       "    .dataframe tbody tr th {\n",
       "        vertical-align: top;\n",
       "    }\n",
       "\n",
       "    .dataframe thead th {\n",
       "        text-align: right;\n",
       "    }\n",
       "</style>\n",
       "<table border=\"1\" class=\"dataframe\">\n",
       "  <thead>\n",
       "    <tr style=\"text-align: right;\">\n",
       "      <th></th>\n",
       "      <th>id</th>\n",
       "      <th>message</th>\n",
       "      <th>original</th>\n",
       "      <th>genre</th>\n",
       "      <th>related</th>\n",
       "      <th>request</th>\n",
       "      <th>offer</th>\n",
       "      <th>aid_related</th>\n",
       "      <th>medical_help</th>\n",
       "      <th>medical_products</th>\n",
       "      <th>...</th>\n",
       "      <th>aid_centers</th>\n",
       "      <th>other_infrastructure</th>\n",
       "      <th>weather_related</th>\n",
       "      <th>floods</th>\n",
       "      <th>storm</th>\n",
       "      <th>fire</th>\n",
       "      <th>earthquake</th>\n",
       "      <th>cold</th>\n",
       "      <th>other_weather</th>\n",
       "      <th>direct_report</th>\n",
       "    </tr>\n",
       "  </thead>\n",
       "  <tbody>\n",
       "    <tr>\n",
       "      <th>0</th>\n",
       "      <td>2</td>\n",
       "      <td>Weather update - a cold front from Cuba that c...</td>\n",
       "      <td>Un front froid se retrouve sur Cuba ce matin. ...</td>\n",
       "      <td>direct</td>\n",
       "      <td>1</td>\n",
       "      <td>0</td>\n",
       "      <td>0</td>\n",
       "      <td>0</td>\n",
       "      <td>0</td>\n",
       "      <td>0</td>\n",
       "      <td>...</td>\n",
       "      <td>0</td>\n",
       "      <td>0</td>\n",
       "      <td>0</td>\n",
       "      <td>0</td>\n",
       "      <td>0</td>\n",
       "      <td>0</td>\n",
       "      <td>0</td>\n",
       "      <td>0</td>\n",
       "      <td>0</td>\n",
       "      <td>0</td>\n",
       "    </tr>\n",
       "    <tr>\n",
       "      <th>1</th>\n",
       "      <td>7</td>\n",
       "      <td>Is the Hurricane over or is it not over</td>\n",
       "      <td>Cyclone nan fini osinon li pa fini</td>\n",
       "      <td>direct</td>\n",
       "      <td>1</td>\n",
       "      <td>0</td>\n",
       "      <td>0</td>\n",
       "      <td>1</td>\n",
       "      <td>0</td>\n",
       "      <td>0</td>\n",
       "      <td>...</td>\n",
       "      <td>0</td>\n",
       "      <td>0</td>\n",
       "      <td>1</td>\n",
       "      <td>0</td>\n",
       "      <td>1</td>\n",
       "      <td>0</td>\n",
       "      <td>0</td>\n",
       "      <td>0</td>\n",
       "      <td>0</td>\n",
       "      <td>0</td>\n",
       "    </tr>\n",
       "  </tbody>\n",
       "</table>\n",
       "<p>2 rows × 40 columns</p>\n",
       "</div>"
      ],
      "text/plain": [
       "   id                                            message  \\\n",
       "0   2  Weather update - a cold front from Cuba that c...   \n",
       "1   7            Is the Hurricane over or is it not over   \n",
       "\n",
       "                                            original   genre  related  \\\n",
       "0  Un front froid se retrouve sur Cuba ce matin. ...  direct        1   \n",
       "1                 Cyclone nan fini osinon li pa fini  direct        1   \n",
       "\n",
       "   request  offer  aid_related  medical_help  medical_products  ...  \\\n",
       "0        0      0            0             0                 0  ...   \n",
       "1        0      0            1             0                 0  ...   \n",
       "\n",
       "   aid_centers  other_infrastructure  weather_related  floods  storm  fire  \\\n",
       "0            0                     0                0       0      0     0   \n",
       "1            0                     0                1       0      1     0   \n",
       "\n",
       "   earthquake  cold  other_weather  direct_report  \n",
       "0           0     0              0              0  \n",
       "1           0     0              0              0  \n",
       "\n",
       "[2 rows x 40 columns]"
      ]
     },
     "execution_count": 5,
     "metadata": {},
     "output_type": "execute_result"
    }
   ],
   "source": [
    "#sort related is 1 and genre is not social\n",
    "df = df[(df[\"related\"] == 1) & (df['genre'] != 'social')]\n",
    "df.head(2)"
   ]
  },
  {
   "cell_type": "code",
   "execution_count": 6,
   "metadata": {},
   "outputs": [],
   "source": [
    "#set data of X, y\n",
    "X = df\n",
    "y = df.drop(['id', 'message', 'original', 'genre', 'related'], axis=1)"
   ]
  },
  {
   "cell_type": "markdown",
   "metadata": {},
   "source": [
    "### 2. Write a tokenization function to process your text data"
   ]
  },
  {
   "cell_type": "code",
   "execution_count": 7,
   "metadata": {},
   "outputs": [],
   "source": [
    "url_regex = 'http[s]?://(?:[a-zA-Z]|[0-9]|[$-_@.&+]|[!*\\(\\),]|(?:%[0-9a-fA-F][0-9a-fA-F]))+'\n",
    "\n",
    "def tokenize(text):\n",
    "    detected_urls = re.findall(url_regex, text)\n",
    "    for url in detected_urls:\n",
    "        text = text.replace(url, \"urlplaceholder\")\n",
    "    \n",
    "    tokens = word_tokenize(text)\n",
    "    lemmatizer = WordNetLemmatizer()\n",
    "    \n",
    "    clean_tokens = []\n",
    "    for tok in tokens:\n",
    "        clean_tok = lemmatizer.lemmatize(tok).lower().strip()\n",
    "        clean_tokens.append(clean_tok)\n",
    "\n",
    "    return clean_tokens"
   ]
  },
  {
   "cell_type": "markdown",
   "metadata": {},
   "source": [
    "### 3. Build a machine learning pipeline\n",
    "This machine pipeline should take in the `message` column as input and output classification results on the other 36 categories in the dataset. You may find the [MultiOutputClassifier](http://scikit-learn.org/stable/modules/generated/sklearn.multioutput.MultiOutputClassifier.html) helpful for predicting multiple target variables."
   ]
  },
  {
   "cell_type": "code",
   "execution_count": 8,
   "metadata": {},
   "outputs": [],
   "source": [
    "pipeline = Pipeline([('cvect', CountVectorizer(tokenizer = tokenize)),\n",
    "                     ('tfidf', TfidfTransformer()),\n",
    "                     ('clf', RandomForestClassifier())])"
   ]
  },
  {
   "cell_type": "markdown",
   "metadata": {},
   "source": [
    "### 4. Train pipeline\n",
    "- Split data into train and test sets\n",
    "- Train pipeline"
   ]
  },
  {
   "cell_type": "code",
   "execution_count": 9,
   "metadata": {},
   "outputs": [
    {
     "data": {
      "text/plain": [
       "Pipeline(steps=[('cvect',\n",
       "                 CountVectorizer(tokenizer=<function tokenize at 0x7fd97cfaf440>)),\n",
       "                ('tfidf', TfidfTransformer()),\n",
       "                ('clf', RandomForestClassifier())])"
      ]
     },
     "execution_count": 9,
     "metadata": {},
     "output_type": "execute_result"
    }
   ],
   "source": [
    "X_train, X_test, y_train, y_test = train_test_split(X, y)\n",
    "pipeline.fit(X_train['message'], y_train)"
   ]
  },
  {
   "cell_type": "markdown",
   "metadata": {},
   "source": [
    "### 5. Test your model\n",
    "Report the f1 score, precision and recall for each output category of the dataset. You can do this by iterating through the columns and calling sklearn's `classification_report` on each."
   ]
  },
  {
   "cell_type": "code",
   "execution_count": 10,
   "metadata": {},
   "outputs": [],
   "source": [
    "# Prediction data\n",
    "y_pred_test = pipeline.predict(X_test['message'])\n",
    "y_pred_train = pipeline.predict(X_train['message'])\n",
    "    \n",
    "# Optional display names matching the labels\n",
    "target_names = y.columns.values"
   ]
  },
  {
   "cell_type": "code",
   "execution_count": 11,
   "metadata": {},
   "outputs": [],
   "source": [
    "def classificationReport_pipeline(test, pred):  \n",
    "    \n",
    "    '''\n",
    "    Classification metrics\n",
    "        - metrics.accuracy_score(y_true, y_pred, *[, ...])\n",
    "        - metrics.precision_score(y_true, y_pred, *[, ...])\n",
    "        - metrics.recall_score(y_true, y_pred, *[, ...])\n",
    "        - metrics.f1_score(y_true, y_pred, *[, ...])\n",
    "        - metrics.classification_report(y_true, y_pred, *)\n",
    "        - other...(https://scikit-learn.org/stable/modules/classes.html#module-sklearn.metrics)\n",
    "    '''\n",
    "    \n",
    "    # Accuracy score\n",
    "    accuracy = accuracy_score(test, pred)\n",
    "    \n",
    "    # Precision score\n",
    "    precision_weighted = precision_score(test, pred, average='weighted', zero_division=0)\n",
    "    \n",
    "    # Recall score\n",
    "    recall_micro = recall_score(test, pred, average='micro', zero_division=0)\n",
    "    \n",
    "    # f1 score\n",
    "    f1_macro = f1_score(test, pred, average='macro', zero_division=0)\n",
    "    \n",
    "    \n",
    "    print('Accuracy:', accuracy)\n",
    "    print('Precision weighted:', precision_weighted)\n",
    "    print('Recall micro:', recall_micro)\n",
    "    print('f1 macro', f1_macro)\n",
    "    print(classification_report(y_true=test.values, \n",
    "                                y_pred=pred , \n",
    "                                target_names=target_names, zero_division=0))"
   ]
  },
  {
   "cell_type": "code",
   "execution_count": 12,
   "metadata": {},
   "outputs": [
    {
     "name": "stdout",
     "output_type": "stream",
     "text": [
      "Accuracy: 0.13294538943598927\n",
      "Precision weighted: 0.2957503013749629\n",
      "Recall micro: 0.13702378446642813\n",
      "f1 macro 0.041218154256780916\n",
      "                        precision    recall  f1-score   support\n",
      "\n",
      "               request       0.60      0.34      0.43      1056\n",
      "                 offer       0.00      0.00      0.00        28\n",
      "           aid_related       0.57      0.49      0.53      2479\n",
      "          medical_help       0.20      0.00      0.00       516\n",
      "      medical_products       0.33      0.00      0.01       296\n",
      "     search_and_rescue       0.00      0.00      0.00       169\n",
      "              security       0.00      0.00      0.00       110\n",
      "              military       0.25      0.00      0.01       208\n",
      "           child_alone       0.00      0.00      0.00         0\n",
      "                 water       0.00      0.00      0.00       394\n",
      "                  food       0.22      0.00      0.01       685\n",
      "               shelter       0.00      0.00      0.00       558\n",
      "              clothing       0.00      0.00      0.00        83\n",
      "                 money       0.00      0.00      0.00       122\n",
      "        missing_people       0.00      0.00      0.00        77\n",
      "              refugees       0.00      0.00      0.00       215\n",
      "                 death       0.00      0.00      0.00       268\n",
      "             other_aid       0.22      0.00      0.00       796\n",
      "infrastructure_related       0.00      0.00      0.00       393\n",
      "             transport       0.00      0.00      0.00       290\n",
      "             buildings       0.00      0.00      0.00       338\n",
      "           electricity       0.00      0.00      0.00       104\n",
      "                 tools       0.00      0.00      0.00        31\n",
      "             hospitals       0.00      0.00      0.00        55\n",
      "                 shops       0.00      0.00      0.00        25\n",
      "           aid_centers       0.00      0.00      0.00        80\n",
      "  other_infrastructure       0.00      0.00      0.00       265\n",
      "       weather_related       0.53      0.05      0.09      1517\n",
      "                floods       0.00      0.00      0.00       534\n",
      "                 storm       0.00      0.00      0.00       484\n",
      "                  fire       0.00      0.00      0.00        66\n",
      "            earthquake       0.25      0.00      0.00       432\n",
      "                  cold       0.00      0.00      0.00       122\n",
      "         other_weather       0.00      0.00      0.00       312\n",
      "         direct_report       0.59      0.26      0.36      1145\n",
      "\n",
      "             micro avg       0.57      0.14      0.22     14253\n",
      "             macro avg       0.11      0.03      0.04     14253\n",
      "          weighted avg       0.30      0.14      0.16     14253\n",
      "           samples avg       0.28      0.11      0.14     14253\n",
      "\n"
     ]
    }
   ],
   "source": [
    "classificationReport_pipeline(y_test, y_pred_test)"
   ]
  },
  {
   "cell_type": "code",
   "execution_count": 13,
   "metadata": {},
   "outputs": [
    {
     "name": "stdout",
     "output_type": "stream",
     "text": [
      "Accuracy: 0.9882853305476794\n",
      "Precision weighted: 0.9979861496791761\n",
      "Recall micro: 0.9918534085810763\n",
      "f1 macro 0.9650390627758495\n",
      "                        precision    recall  f1-score   support\n",
      "\n",
      "               request       1.00      1.00      1.00      3217\n",
      "                 offer       1.00      0.97      0.99        73\n",
      "           aid_related       1.00      1.00      1.00      7630\n",
      "          medical_help       1.00      0.99      0.99      1485\n",
      "      medical_products       1.00      0.98      0.99       921\n",
      "     search_and_rescue       1.00      0.99      1.00       493\n",
      "              security       1.00      0.98      0.99       318\n",
      "              military       1.00      0.99      0.99       633\n",
      "           child_alone       0.00      0.00      0.00         0\n",
      "                 water       1.00      0.99      0.99      1223\n",
      "                  food       1.00      0.99      0.99      2044\n",
      "               shelter       1.00      0.99      0.99      1664\n",
      "              clothing       1.00      0.98      0.99       233\n",
      "                 money       1.00      0.99      0.99       400\n",
      "        missing_people       1.00      0.99      1.00       181\n",
      "              refugees       1.00      0.99      0.99       619\n",
      "                 death       1.00      0.99      0.99       845\n",
      "             other_aid       1.00      0.99      0.99      2314\n",
      "infrastructure_related       1.00      0.99      1.00      1152\n",
      "             transport       1.00      0.98      0.99       800\n",
      "             buildings       1.00      0.99      1.00       870\n",
      "           electricity       1.00      0.98      0.99       323\n",
      "                 tools       1.00      0.99      1.00       118\n",
      "             hospitals       1.00      0.99      0.99       202\n",
      "                 shops       1.00      0.99      0.99        70\n",
      "           aid_centers       1.00      0.99      1.00       215\n",
      "  other_infrastructure       1.00      0.99      0.99       777\n",
      "       weather_related       1.00      0.99      1.00      4428\n",
      "                floods       1.00      0.99      0.99      1486\n",
      "                 storm       1.00      0.99      0.99      1408\n",
      "                  fire       1.00      0.98      0.99       201\n",
      "            earthquake       1.00      0.99      1.00      1323\n",
      "                  cold       1.00      0.98      0.99       359\n",
      "         other_weather       1.00      0.99      0.99       955\n",
      "         direct_report       1.00      1.00      1.00      3369\n",
      "\n",
      "             micro avg       1.00      0.99      0.99     42349\n",
      "             macro avg       0.97      0.96      0.97     42349\n",
      "          weighted avg       1.00      0.99      0.99     42349\n",
      "           samples avg       0.73      0.73      0.73     42349\n",
      "\n"
     ]
    }
   ],
   "source": [
    "classificationReport_pipeline(y_train, y_pred_train)"
   ]
  },
  {
   "cell_type": "markdown",
   "metadata": {},
   "source": [
    "### 6. Improve your model\n",
    "Use grid search to find better parameters. "
   ]
  },
  {
   "cell_type": "code",
   "execution_count": 14,
   "metadata": {},
   "outputs": [
    {
     "data": {
      "text/plain": [
       "{'memory': None,\n",
       " 'steps': [('cvect',\n",
       "   CountVectorizer(tokenizer=<function tokenize at 0x7fd97cfaf440>)),\n",
       "  ('tfidf', TfidfTransformer()),\n",
       "  ('clf', RandomForestClassifier())],\n",
       " 'verbose': False,\n",
       " 'cvect': CountVectorizer(tokenizer=<function tokenize at 0x7fd97cfaf440>),\n",
       " 'tfidf': TfidfTransformer(),\n",
       " 'clf': RandomForestClassifier(),\n",
       " 'cvect__analyzer': 'word',\n",
       " 'cvect__binary': False,\n",
       " 'cvect__decode_error': 'strict',\n",
       " 'cvect__dtype': numpy.int64,\n",
       " 'cvect__encoding': 'utf-8',\n",
       " 'cvect__input': 'content',\n",
       " 'cvect__lowercase': True,\n",
       " 'cvect__max_df': 1.0,\n",
       " 'cvect__max_features': None,\n",
       " 'cvect__min_df': 1,\n",
       " 'cvect__ngram_range': (1, 1),\n",
       " 'cvect__preprocessor': None,\n",
       " 'cvect__stop_words': None,\n",
       " 'cvect__strip_accents': None,\n",
       " 'cvect__token_pattern': '(?u)\\\\b\\\\w\\\\w+\\\\b',\n",
       " 'cvect__tokenizer': <function __main__.tokenize(text)>,\n",
       " 'cvect__vocabulary': None,\n",
       " 'tfidf__norm': 'l2',\n",
       " 'tfidf__smooth_idf': True,\n",
       " 'tfidf__sublinear_tf': False,\n",
       " 'tfidf__use_idf': True,\n",
       " 'clf__bootstrap': True,\n",
       " 'clf__ccp_alpha': 0.0,\n",
       " 'clf__class_weight': None,\n",
       " 'clf__criterion': 'gini',\n",
       " 'clf__max_depth': None,\n",
       " 'clf__max_features': 'auto',\n",
       " 'clf__max_leaf_nodes': None,\n",
       " 'clf__max_samples': None,\n",
       " 'clf__min_impurity_decrease': 0.0,\n",
       " 'clf__min_samples_leaf': 1,\n",
       " 'clf__min_samples_split': 2,\n",
       " 'clf__min_weight_fraction_leaf': 0.0,\n",
       " 'clf__n_estimators': 100,\n",
       " 'clf__n_jobs': None,\n",
       " 'clf__oob_score': False,\n",
       " 'clf__random_state': None,\n",
       " 'clf__verbose': 0,\n",
       " 'clf__warm_start': False}"
      ]
     },
     "execution_count": 14,
     "metadata": {},
     "output_type": "execute_result"
    }
   ],
   "source": [
    "pipeline.get_params()"
   ]
  },
  {
   "cell_type": "code",
   "execution_count": 15,
   "metadata": {},
   "outputs": [],
   "source": [
    "parameters = {\n",
    "    'clf__max_depth': [5, None],\n",
    "    'clf__min_samples_split': [2, 3],\n",
    "    'clf__n_estimators': [5, 10, 50]\n",
    "}\n",
    "\n",
    "cv = GridSearchCV(pipeline, param_grid=parameters)"
   ]
  },
  {
   "cell_type": "code",
   "execution_count": 16,
   "metadata": {},
   "outputs": [
    {
     "data": {
      "text/plain": [
       "GridSearchCV(estimator=Pipeline(steps=[('cvect',\n",
       "                                        CountVectorizer(tokenizer=<function tokenize at 0x7fd97cfaf440>)),\n",
       "                                       ('tfidf', TfidfTransformer()),\n",
       "                                       ('clf', RandomForestClassifier())]),\n",
       "             param_grid={'clf__max_depth': [5, None],\n",
       "                         'clf__min_samples_split': [2, 3],\n",
       "                         'clf__n_estimators': [5, 10, 50]})"
      ]
     },
     "execution_count": 16,
     "metadata": {},
     "output_type": "execute_result"
    }
   ],
   "source": [
    "cv.fit(X_train['message'], y_train)"
   ]
  },
  {
   "cell_type": "markdown",
   "metadata": {},
   "source": [
    "### 7. Test your model\n",
    "Show the accuracy, precision, and recall of the tuned model.  \n",
    "\n",
    "Since this project focuses on code quality, process, and  pipelines, there is no minimum performance metric needed to pass. However, make sure to fine tune your models for accuracy, precision and recall to make your project stand out - especially for your portfolio!"
   ]
  },
  {
   "cell_type": "code",
   "execution_count": 17,
   "metadata": {},
   "outputs": [],
   "source": [
    "# Prediction data\n",
    "y_pred_test = cv.predict(X_test['message'])\n",
    "y_pred_train = cv.predict(X_train['message'])\n",
    "    \n",
    "# Optional display names matching the labels\n",
    "target_names = y.columns.values"
   ]
  },
  {
   "cell_type": "code",
   "execution_count": 18,
   "metadata": {},
   "outputs": [],
   "source": [
    "def classificationReport_cv(test, pred):\n",
    "       \n",
    "    '''\n",
    "    Classification metrics\n",
    "        - metrics.accuracy_score(y_true, y_pred, *[, ...])\n",
    "        - metrics.precision_score(y_true, y_pred, *[, ...])\n",
    "        - metrics.recall_score(y_true, y_pred, *[, ...])\n",
    "        - metrics.f1_score(y_true, y_pred, *[, ...])\n",
    "        - metrics.classification_report(y_true, y_pred, *)\n",
    "        - other...(https://scikit-learn.org/stable/modules/classes.html#module-sklearn.metrics)\n",
    "    '''\n",
    "    \n",
    "    # Accuracy score\n",
    "    accuracy = accuracy_score(test, pred)\n",
    "    \n",
    "    # Precision score\n",
    "    precision_weighted = precision_score(test, pred, average='weighted', zero_division=0)\n",
    "    \n",
    "    # Recall score\n",
    "    recall_micro = recall_score(test, pred, average='micro', zero_division=0)\n",
    "    \n",
    "    # f1 score\n",
    "    f1_macro = f1_score(test, pred, average='macro', zero_division=0)\n",
    "    \n",
    "    \n",
    "    print('Accuracy:', accuracy)\n",
    "    print('Precision weighted:', precision_weighted)\n",
    "    print('Recall micro:', recall_micro)\n",
    "    print('f1 macro', f1_macro)\n",
    "    print(classification_report(y_true=test.values, \n",
    "                                y_pred=pred , \n",
    "                                target_names=target_names, zero_division=0))"
   ]
  },
  {
   "cell_type": "code",
   "execution_count": 19,
   "metadata": {},
   "outputs": [
    {
     "name": "stdout",
     "output_type": "stream",
     "text": [
      "Accuracy: 0.14279319606087734\n",
      "Precision weighted: 0.29770466261517725\n",
      "Recall micro: 0.12123763418227741\n",
      "f1 macro 0.040391677925941116\n",
      "                        precision    recall  f1-score   support\n",
      "\n",
      "               request       0.56      0.28      0.37      1056\n",
      "                 offer       0.00      0.00      0.00        28\n",
      "           aid_related       0.57      0.40      0.47      2479\n",
      "          medical_help       0.12      0.00      0.00       516\n",
      "      medical_products       0.25      0.00      0.01       296\n",
      "     search_and_rescue       1.00      0.01      0.01       169\n",
      "              security       0.00      0.00      0.00       110\n",
      "              military       0.20      0.00      0.01       208\n",
      "           child_alone       0.00      0.00      0.00         0\n",
      "                 water       0.00      0.00      0.00       394\n",
      "                  food       0.23      0.01      0.02       685\n",
      "               shelter       0.12      0.00      0.01       558\n",
      "              clothing       0.00      0.00      0.00        83\n",
      "                 money       0.00      0.00      0.00       122\n",
      "        missing_people       0.00      0.00      0.00        77\n",
      "              refugees       0.00      0.00      0.00       215\n",
      "                 death       0.00      0.00      0.00       268\n",
      "             other_aid       0.14      0.01      0.01       796\n",
      "infrastructure_related       0.00      0.00      0.00       393\n",
      "             transport       0.00      0.00      0.00       290\n",
      "             buildings       0.00      0.00      0.00       338\n",
      "           electricity       0.00      0.00      0.00       104\n",
      "                 tools       0.00      0.00      0.00        31\n",
      "             hospitals       0.00      0.00      0.00        55\n",
      "                 shops       0.00      0.00      0.00        25\n",
      "           aid_centers       0.00      0.00      0.00        80\n",
      "  other_infrastructure       0.00      0.00      0.00       265\n",
      "       weather_related       0.43      0.10      0.16      1517\n",
      "                floods       0.07      0.00      0.00       534\n",
      "                 storm       0.14      0.00      0.00       484\n",
      "                  fire       0.00      0.00      0.00        66\n",
      "            earthquake       0.17      0.00      0.00       432\n",
      "                  cold       0.00      0.00      0.00       122\n",
      "         other_weather       0.33      0.00      0.01       312\n",
      "         direct_report       0.54      0.23      0.32      1145\n",
      "\n",
      "             micro avg       0.53      0.12      0.20     14253\n",
      "             macro avg       0.14      0.03      0.04     14253\n",
      "          weighted avg       0.30      0.12      0.16     14253\n",
      "           samples avg       0.24      0.10      0.13     14253\n",
      "\n"
     ]
    }
   ],
   "source": [
    "classificationReport_cv(y_test, y_pred_test)"
   ]
  },
  {
   "cell_type": "code",
   "execution_count": 20,
   "metadata": {},
   "outputs": [
    {
     "name": "stdout",
     "output_type": "stream",
     "text": [
      "Accuracy: 0.8120429786599015\n",
      "Precision weighted: 0.9956952886505172\n",
      "Recall micro: 0.8451439231150677\n",
      "f1 macro 0.8430323884810322\n",
      "                        precision    recall  f1-score   support\n",
      "\n",
      "               request       0.99      0.93      0.96      3217\n",
      "                 offer       1.00      0.78      0.88        73\n",
      "           aid_related       0.99      0.97      0.98      7630\n",
      "          medical_help       1.00      0.78      0.87      1485\n",
      "      medical_products       1.00      0.75      0.86       921\n",
      "     search_and_rescue       1.00      0.75      0.86       493\n",
      "              security       1.00      0.72      0.84       318\n",
      "              military       1.00      0.72      0.84       633\n",
      "           child_alone       0.00      0.00      0.00         0\n",
      "                 water       1.00      0.76      0.86      1223\n",
      "                  food       1.00      0.82      0.90      2044\n",
      "               shelter       0.99      0.79      0.88      1664\n",
      "              clothing       0.99      0.75      0.85       233\n",
      "                 money       1.00      0.73      0.84       400\n",
      "        missing_people       1.00      0.66      0.80       181\n",
      "              refugees       1.00      0.73      0.84       619\n",
      "                 death       1.00      0.74      0.85       845\n",
      "             other_aid       1.00      0.82      0.90      2314\n",
      "infrastructure_related       1.00      0.77      0.87      1152\n",
      "             transport       0.99      0.72      0.84       800\n",
      "             buildings       0.99      0.76      0.86       870\n",
      "           electricity       0.99      0.74      0.85       323\n",
      "                 tools       1.00      0.76      0.87       118\n",
      "             hospitals       0.99      0.71      0.82       202\n",
      "                 shops       1.00      0.74      0.85        70\n",
      "           aid_centers       0.99      0.71      0.83       215\n",
      "  other_infrastructure       1.00      0.76      0.86       777\n",
      "       weather_related       1.00      0.91      0.95      4428\n",
      "                floods       0.99      0.80      0.89      1486\n",
      "                 storm       1.00      0.81      0.89      1408\n",
      "                  fire       1.00      0.65      0.79       201\n",
      "            earthquake       1.00      0.78      0.87      1323\n",
      "                  cold       1.00      0.71      0.83       359\n",
      "         other_weather       1.00      0.77      0.87       955\n",
      "         direct_report       0.99      0.92      0.96      3369\n",
      "\n",
      "             micro avg       1.00      0.85      0.91     42349\n",
      "             macro avg       0.97      0.75      0.84     42349\n",
      "          weighted avg       1.00      0.85      0.91     42349\n",
      "           samples avg       0.70      0.63      0.65     42349\n",
      "\n"
     ]
    }
   ],
   "source": [
    "classificationReport_cv(y_train, y_pred_train)"
   ]
  },
  {
   "cell_type": "markdown",
   "metadata": {},
   "source": [
    "### 8. Try improving your model further. Here are a few ideas:\n",
    "* try other machine learning algorithms\n",
    "* add other features besides the TF-IDF"
   ]
  },
  {
   "cell_type": "code",
   "execution_count": 21,
   "metadata": {},
   "outputs": [
    {
     "data": {
      "text/plain": [
       "Pipeline(steps=[('cvect',\n",
       "                 CountVectorizer(tokenizer=<function tokenize at 0x7fd97cfaf440>)),\n",
       "                ('tfidf', TfidfTransformer()),\n",
       "                ('clf', RandomForestClassifier(n_estimators=10))])"
      ]
     },
     "execution_count": 21,
     "metadata": {},
     "output_type": "execute_result"
    }
   ],
   "source": [
    "cv.best_estimator_"
   ]
  },
  {
   "cell_type": "code",
   "execution_count": 22,
   "metadata": {},
   "outputs": [
    {
     "data": {
      "text/plain": [
       "{'clf__max_depth': None, 'clf__min_samples_split': 2, 'clf__n_estimators': 10}"
      ]
     },
     "execution_count": 22,
     "metadata": {},
     "output_type": "execute_result"
    }
   ],
   "source": [
    "cv.best_params_"
   ]
  },
  {
   "cell_type": "code",
   "execution_count": 23,
   "metadata": {},
   "outputs": [
    {
     "data": {
      "text/plain": [
       "0.14408220924471266"
      ]
     },
     "execution_count": 23,
     "metadata": {},
     "output_type": "execute_result"
    }
   ],
   "source": [
    "cv.best_score_"
   ]
  },
  {
   "cell_type": "markdown",
   "metadata": {},
   "source": [
    "### 9. Export your model as a pickle file"
   ]
  },
  {
   "cell_type": "code",
   "execution_count": 24,
   "metadata": {},
   "outputs": [],
   "source": [
    "# save cv\n",
    "k = pickle.dump(cv, open('model_cv.pkl', 'wb'))"
   ]
  },
  {
   "cell_type": "code",
   "execution_count": 25,
   "metadata": {},
   "outputs": [
    {
     "data": {
      "text/plain": [
       "GridSearchCV(estimator=Pipeline(steps=[('cvect',\n",
       "                                        CountVectorizer(tokenizer=<function tokenize at 0x7fd97cfaf440>)),\n",
       "                                       ('tfidf', TfidfTransformer()),\n",
       "                                       ('clf', RandomForestClassifier())]),\n",
       "             param_grid={'clf__max_depth': [5, None],\n",
       "                         'clf__min_samples_split': [2, 3],\n",
       "                         'clf__n_estimators': [5, 10, 50]})"
      ]
     },
     "execution_count": 25,
     "metadata": {},
     "output_type": "execute_result"
    }
   ],
   "source": [
    "# read cv\n",
    "pickle.load(open('model_cv.pkl', 'rb'))"
   ]
  },
  {
   "cell_type": "code",
   "execution_count": 26,
   "metadata": {},
   "outputs": [],
   "source": [
    "# save pipeline\n",
    "p = pickle.dump(pipeline, open('model_pipline.plk', 'wb'))"
   ]
  },
  {
   "cell_type": "code",
   "execution_count": 27,
   "metadata": {},
   "outputs": [
    {
     "data": {
      "text/plain": [
       "Pipeline(steps=[('cvect',\n",
       "                 CountVectorizer(tokenizer=<function tokenize at 0x7fd97cfaf440>)),\n",
       "                ('tfidf', TfidfTransformer()),\n",
       "                ('clf', RandomForestClassifier())])"
      ]
     },
     "execution_count": 27,
     "metadata": {},
     "output_type": "execute_result"
    }
   ],
   "source": [
    "# read pipeline\n",
    "pickle.load(open('model_pipline.plk', 'rb'))"
   ]
  },
  {
   "cell_type": "markdown",
   "metadata": {},
   "source": [
    "### 10. Use this notebook to complete `train.py`\n",
    "Use the template file attached in the Resources folder to write a script that runs the steps above to create a database and export a model based on a new dataset specified by the user."
   ]
  },
  {
   "cell_type": "code",
   "execution_count": null,
   "metadata": {},
   "outputs": [],
   "source": []
  }
 ],
 "metadata": {
  "kernelspec": {
   "display_name": "Python 3 (ipykernel)",
   "language": "python",
   "name": "python3"
  },
  "language_info": {
   "codemirror_mode": {
    "name": "ipython",
    "version": 3
   },
   "file_extension": ".py",
   "mimetype": "text/x-python",
   "name": "python",
   "nbconvert_exporter": "python",
   "pygments_lexer": "ipython3",
   "version": "3.7.7"
  }
 },
 "nbformat": 4,
 "nbformat_minor": 2
}
